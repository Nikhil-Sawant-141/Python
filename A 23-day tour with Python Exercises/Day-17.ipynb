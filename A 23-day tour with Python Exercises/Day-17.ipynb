{
 "cells": [
  {
   "cell_type": "markdown",
   "metadata": {},
   "source": [
    "### Question 65"
   ]
  },
  {
   "cell_type": "markdown",
   "metadata": {},
   "source": [
    "Please write assert statements to verify that every number in the list [2,4,6,8] is even."
   ]
  },
  {
   "cell_type": "code",
   "execution_count": 16,
   "metadata": {},
   "outputs": [],
   "source": [
    "data = [2,4,6,8]\n",
    "\n",
    "for i in data:\n",
    "    assert i%2 == 0, \"{} is not an even number\".format(i) "
   ]
  },
  {
   "cell_type": "markdown",
   "metadata": {},
   "source": [
    "### Question 66"
   ]
  },
  {
   "cell_type": "markdown",
   "metadata": {},
   "source": [
    "Please write a program which accepts basic mathematic expression from console and print the evaluation result.\n",
    "\n",
    "Example: If the following n is given as input to the program:\n",
    "\n",
    "35 + 3\n",
    "\n",
    "Then, the output of the program should be:\n",
    "\n",
    "38"
   ]
  },
  {
   "cell_type": "code",
   "execution_count": 17,
   "metadata": {},
   "outputs": [
    {
     "name": "stdout",
     "output_type": "stream",
     "text": [
      "35 + 3\n",
      "38\n"
     ]
    }
   ],
   "source": [
    "expression = input()\n",
    "result = eval(expression)\n",
    "print(result)"
   ]
  },
  {
   "cell_type": "markdown",
   "metadata": {},
   "source": [
    "### Question 67"
   ]
  },
  {
   "cell_type": "markdown",
   "metadata": {},
   "source": [
    "Please write a binary search function which searches an item in a sorted list. The function should return the index of element to be searched in the list."
   ]
  },
  {
   "cell_type": "code",
   "execution_count": 18,
   "metadata": {},
   "outputs": [
    {
     "name": "stdout",
     "output_type": "stream",
     "text": [
      "Array Length: 14\n",
      "Middle Value: 7\n",
      "Middle Value: 10\n",
      "The Value Found at Index: 10\n"
     ]
    }
   ],
   "source": [
    "def binary_search_Ascending(array, target):\n",
    "    lower = 0\n",
    "    upper = len(array)\n",
    "    print('Array Length:',upper)\n",
    "    while lower < upper:\n",
    "        x = (lower + upper) // 2\n",
    "        print('Middle Value:',x)\n",
    "        value = array[x]\n",
    "        if target == value:\n",
    "            return x\n",
    "        elif target > value:\n",
    "            lower = x\n",
    "        elif target < value:\n",
    "            upper = x\n",
    "\n",
    "\n",
    "Array = [1,5,8,10,12,13,55,66,73,78,82,85,88,99]\n",
    "print('The Value Found at Index:',binary_search_Ascending(Array, 82))"
   ]
  },
  {
   "cell_type": "markdown",
   "metadata": {},
   "source": [
    "### Question 68"
   ]
  },
  {
   "cell_type": "markdown",
   "metadata": {},
   "source": [
    "Please generate a random float where the value is between 10 and 100 using Python module."
   ]
  },
  {
   "cell_type": "code",
   "execution_count": 12,
   "metadata": {},
   "outputs": [
    {
     "name": "stdout",
     "output_type": "stream",
     "text": [
      "60.78495946558698\n"
     ]
    }
   ],
   "source": [
    "import random\n",
    "\n",
    "print(random.uniform(10, 100))"
   ]
  },
  {
   "cell_type": "markdown",
   "metadata": {},
   "source": [
    "### Question 69"
   ]
  },
  {
   "cell_type": "markdown",
   "metadata": {},
   "source": [
    "Please generate a random float where the value is between 5 and 95 using Python module."
   ]
  },
  {
   "cell_type": "code",
   "execution_count": 11,
   "metadata": {},
   "outputs": [
    {
     "name": "stdout",
     "output_type": "stream",
     "text": [
      "5.363119393654473\n"
     ]
    }
   ],
   "source": [
    "import random\n",
    "\n",
    "print(random.uniform(5, 95))"
   ]
  },
  {
   "cell_type": "code",
   "execution_count": null,
   "metadata": {},
   "outputs": [],
   "source": []
  }
 ],
 "metadata": {
  "kernelspec": {
   "display_name": "Python 3",
   "language": "python",
   "name": "python3"
  },
  "language_info": {
   "codemirror_mode": {
    "name": "ipython",
    "version": 3
   },
   "file_extension": ".py",
   "mimetype": "text/x-python",
   "name": "python",
   "nbconvert_exporter": "python",
   "pygments_lexer": "ipython3",
   "version": "3.7.4"
  }
 },
 "nbformat": 4,
 "nbformat_minor": 2
}
