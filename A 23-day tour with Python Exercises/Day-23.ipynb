{
 "cells": [
  {
   "cell_type": "markdown",
   "metadata": {},
   "source": [
    "### Question 95"
   ]
  },
  {
   "cell_type": "markdown",
   "metadata": {},
   "source": [
    "Given the participants' score sheet for your University Sports Day, you are required to find the runner-up score. You are given scores. Store them in a list and find the score of the runner-up.\n",
    "\n",
    "If the following string is given as input to the program:\n",
    "\n",
    "5\n",
    "\n",
    "2 3 6 6 5\n",
    "\n",
    "Then, the output of the program should be:\n",
    "\n",
    "5"
   ]
  },
  {
   "cell_type": "code",
   "execution_count": 4,
   "metadata": {},
   "outputs": [
    {
     "name": "stdout",
     "output_type": "stream",
     "text": [
      "5\n",
      "2 3 6 6 5\n",
      "5\n"
     ]
    }
   ],
   "source": [
    "num = int(input())\n",
    "\n",
    "scores = list(map(int, input().split()))\n",
    "\n",
    "print(list(set(scores))[-2])"
   ]
  },
  {
   "cell_type": "markdown",
   "metadata": {},
   "source": [
    "### Question 96"
   ]
  },
  {
   "cell_type": "markdown",
   "metadata": {},
   "source": [
    "You are given a string S and width W. Your task is to wrap the string into a paragraph of width.\n",
    "\n",
    "If the following string is given as input to the program:\n",
    "\n",
    "ABCDEFGHIJKLIMNOQRSTUVWXYZ\n",
    "\n",
    "4\n",
    "\n",
    "Then, the output of the program should be:\n",
    "\n",
    "ABCD\n",
    "\n",
    "EFGH\n",
    "\n",
    "IJKL\n",
    "\n",
    "IMNO\n",
    "\n",
    "QRST\n",
    "\n",
    "UVWX\n",
    "\n",
    "YZ"
   ]
  },
  {
   "cell_type": "code",
   "execution_count": 10,
   "metadata": {},
   "outputs": [
    {
     "name": "stdout",
     "output_type": "stream",
     "text": [
      "ABCDEFGHIJKLIMNOQRSTUVWXYZ\n",
      "4\n",
      "ABCD\n",
      "EFGH\n",
      "IJKL\n",
      "IJKL\n",
      "QRST\n",
      "UVWX\n",
      "YZ\n"
     ]
    }
   ],
   "source": [
    "s = input()\n",
    "w = int(input())\n",
    "\n",
    "for i in string[::4]:\n",
    "    print(string[string.index(i):string.index(i)+4])"
   ]
  },
  {
   "cell_type": "code",
   "execution_count": 28,
   "metadata": {},
   "outputs": [
    {
     "name": "stdout",
     "output_type": "stream",
     "text": [
      "ABCDEFGHIJKLIMNOQRSTUVWXYZ\n",
      "4\n",
      "ABCD\n",
      "EFGH\n",
      "IJKL\n",
      "IMNO\n",
      "QRST\n",
      "UVWX\n",
      "YZ\n"
     ]
    }
   ],
   "source": [
    "import textwrap\n",
    "\n",
    "string = input()\n",
    "width = int(input())\n",
    "\n",
    "print(textwrap.fill(string,width))"
   ]
  },
  {
   "cell_type": "markdown",
   "metadata": {},
   "source": [
    "### Question 97"
   ]
  },
  {
   "cell_type": "markdown",
   "metadata": {},
   "source": [
    "You are given a date. Your task is to find what the day is on that date.\n",
    "\n",
    "A single line of input containing the space separated month, day and year, respectively, in MM DD YYYY format.\n",
    "\n",
    "08 05 2015\n",
    "\n",
    "Output the correct day in capital letters.\n",
    "\n",
    "WEDNESDAY"
   ]
  },
  {
   "cell_type": "code",
   "execution_count": 29,
   "metadata": {},
   "outputs": [
    {
     "name": "stdout",
     "output_type": "stream",
     "text": [
      "08 05 2015\n",
      "2015-05-08 00:00:00\n",
      "4\n"
     ]
    }
   ],
   "source": [
    "from datetime import datetime\n",
    "\n",
    "date = input().split()\n",
    "\n",
    "act = \"/\".join(date)\n",
    "\n",
    "ymd = datetime.strptime(act, \"%d/%m/%Y\")\n",
    "\n",
    "print(ymd)\n",
    "print(str(ymd.weekday()))"
   ]
  },
  {
   "cell_type": "code",
   "execution_count": 30,
   "metadata": {},
   "outputs": [
    {
     "name": "stdout",
     "output_type": "stream",
     "text": [
      "08 05 2015\n",
      "WEDNESDAY\n"
     ]
    }
   ],
   "source": [
    "import calendar\n",
    "\n",
    "month, day, year = map(int, input().split())\n",
    "\n",
    "dayId = calendar.weekday(year, month, day)\n",
    "print(calendar.day_name[dayId].upper())"
   ]
  },
  {
   "cell_type": "markdown",
   "metadata": {},
   "source": [
    "### Question 98"
   ]
  },
  {
   "cell_type": "markdown",
   "metadata": {},
   "source": [
    "Question\n",
    "\n",
    "Given 2 sets of integers, M and N, print their symmetric difference in ascending order. The term symmetric difference indicates those values that exist in either M or N but do not exist in both.\n",
    "\n",
    "Input\n",
    "\n",
    "The first line of input contains an integer, M.The second line contains M space-separated integers.The third line contains an integer, N.The fourth line contains N space-separated integers.\n",
    "\n",
    "4\n",
    "\n",
    "2 4 5 9\n",
    "\n",
    "4\n",
    "\n",
    "2 4 11 12\n",
    "\n",
    "Output\n",
    "\n",
    "Output the symmetric difference integers in ascending order, one per line.\n",
    "\n",
    "5\n",
    "\n",
    "9\n",
    "\n",
    "11\n",
    "\n",
    "12"
   ]
  },
  {
   "cell_type": "code",
   "execution_count": 32,
   "metadata": {},
   "outputs": [
    {
     "name": "stdout",
     "output_type": "stream",
     "text": [
      "4\n",
      "2 4 5 9\n",
      "4\n",
      "2 4 11 12\n",
      "5\n",
      "9\n",
      "11\n",
      "12\n"
     ]
    }
   ],
   "source": [
    "m = int(input())\n",
    "\n",
    "set_m = set(map(int, input().split()))\n",
    "\n",
    "n = int(input())\n",
    "\n",
    "set_n = set(map(int, input().split()))\n",
    "\n",
    "diffs = list(set_m ^ set_n)\n",
    "\n",
    "for i in diffs:\n",
    "    print(i)"
   ]
  },
  {
   "cell_type": "markdown",
   "metadata": {},
   "source": [
    "### Question 99"
   ]
  },
  {
   "cell_type": "markdown",
   "metadata": {},
   "source": [
    "Given a number N.Find Sum of 1 to N Using Recursion\n",
    "\n",
    "Input\n",
    "\n",
    "5\n",
    "\n",
    "Output\n",
    "\n",
    "15"
   ]
  },
  {
   "cell_type": "code",
   "execution_count": 14,
   "metadata": {},
   "outputs": [
    {
     "name": "stdout",
     "output_type": "stream",
     "text": [
      "5\n",
      "15\n"
     ]
    }
   ],
   "source": [
    "def recursive_sum(num):\n",
    "    if num == 0:\n",
    "        return 0\n",
    "    else:\n",
    "        return num + recursive_sum(num-1)\n",
    "    \n",
    "num = int(input())\n",
    "\n",
    "print(recursive_sum(num))"
   ]
  },
  {
   "cell_type": "markdown",
   "metadata": {},
   "source": [
    "### Question 100"
   ]
  },
  {
   "cell_type": "markdown",
   "metadata": {},
   "source": [
    "You are given a string.Your task is to count the frequency of letters of the string and print the letters in descending order of frequency.\n",
    "\n",
    "If the following string is given as input to the program:\n",
    "\n",
    "aabbbccde\n",
    "\n",
    "Then, the output of the program should be:\n",
    "\n",
    "b 3\n",
    "\n",
    "a 2\n",
    "\n",
    "c 2\n",
    "\n",
    "d 1\n",
    "\n",
    "e 1"
   ]
  },
  {
   "cell_type": "code",
   "execution_count": 11,
   "metadata": {},
   "outputs": [
    {
     "name": "stdout",
     "output_type": "stream",
     "text": [
      "b 3\n",
      "a 2\n",
      "c 2\n",
      "d 1\n",
      "e 1\n"
     ]
    }
   ],
   "source": [
    "string = \"aabbbccde\"\n",
    "\n",
    "count = {k:string.count(k) for k in string}\n",
    "    \n",
    "alpha_counts = [(k,v) for k,v in count.items()]\n",
    "\n",
    "alpha_counts.sort(key = lambda x: x[1], reverse = True)\n",
    "\n",
    "for item in alpha_counts:\n",
    "    print(item[0], item[1])"
   ]
  },
  {
   "cell_type": "code",
   "execution_count": null,
   "metadata": {},
   "outputs": [],
   "source": []
  }
 ],
 "metadata": {
  "kernelspec": {
   "display_name": "Python 3",
   "language": "python",
   "name": "python3"
  },
  "language_info": {
   "codemirror_mode": {
    "name": "ipython",
    "version": 3
   },
   "file_extension": ".py",
   "mimetype": "text/x-python",
   "name": "python",
   "nbconvert_exporter": "python",
   "pygments_lexer": "ipython3",
   "version": "3.7.4"
  }
 },
 "nbformat": 4,
 "nbformat_minor": 2
}
