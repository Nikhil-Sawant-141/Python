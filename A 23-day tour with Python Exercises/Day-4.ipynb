{
 "cells": [
  {
   "cell_type": "markdown",
   "metadata": {},
   "source": [
    "### Question 14"
   ]
  },
  {
   "cell_type": "markdown",
   "metadata": {},
   "source": [
    "Write a program that accepts a sentence and calculate the number of upper case letters and lower case letters.\n",
    "\n",
    "Suppose the following input is supplied to the program:\n",
    "\n",
    "Hello world!\n",
    "\n",
    "Then, the output should be:\n",
    "\n",
    "UPPER CASE 1\n",
    "LOWER CASE 9"
   ]
  },
  {
   "cell_type": "code",
   "execution_count": 3,
   "metadata": {},
   "outputs": [
    {
     "name": "stdout",
     "output_type": "stream",
     "text": [
      "Hello world!\n",
      "UPPER CASE 1 LOWER CASE 9\n"
     ]
    }
   ],
   "source": [
    "## Main author's Solution: Python 2\n",
    "\n",
    "s = raw_input()\n",
    "d = {\"UPPER CASE\":0, \"LOWER CASE\":0}\n",
    "for c in s:\n",
    "    if c.isupper():\n",
    "        d[\"UPPER CASE\"]+=1\n",
    "    elif c.islower():\n",
    "        d[\"LOWER CASE\"]+=1\n",
    "    else:\n",
    "        pass\n",
    "print \"UPPER CASE\", d[\"UPPER CASE\"]\n",
    "print \"LOWER CASE\", d[\"LOWER CASE\"]\n"
   ]
  },
  {
   "cell_type": "code",
   "execution_count": null,
   "metadata": {},
   "outputs": [],
   "source": [
    "## My Solution: Python 3\n",
    "\n",
    "sent = input()\n",
    "upper = 0\n",
    "lower = 0\n",
    "\n",
    "for i in sent:\n",
    "    if i.isupper():\n",
    "        upper+=1\n",
    "    elif i.islower():\n",
    "        lower+=1\n",
    "    else:\n",
    "        continue\n",
    "\n",
    "print(\"UPPER CASE {} LOWER CASE {}\".format(upper, lower))"
   ]
  },
  {
   "cell_type": "markdown",
   "metadata": {},
   "source": [
    "### Question 15"
   ]
  },
  {
   "cell_type": "markdown",
   "metadata": {},
   "source": [
    "Write a program that computes the value of a+aa+aaa+aaaa with a given digit as the value of a.\n",
    "\n",
    "Suppose the following input is supplied to the program:\n",
    "\n",
    "9\n",
    "\n",
    "Then, the output should be:\n",
    "\n",
    "11106"
   ]
  },
  {
   "cell_type": "code",
   "execution_count": 12,
   "metadata": {},
   "outputs": [
    {
     "name": "stdout",
     "output_type": "stream",
     "text": [
      "9\n",
      "11106\n"
     ]
    }
   ],
   "source": [
    "## Main author's Solution: Python 2\n",
    "\n",
    "a = raw_input()\n",
    "n1 = int( \"%s\" % a )\n",
    "n2 = int( \"%s%s\" % (a,a) )\n",
    "n3 = int( \"%s%s%s\" % (a,a,a) )\n",
    "n4 = int( \"%s%s%s%s\" % (a,a,a,a) )\n",
    "print n1+n2+n3+n4"
   ]
  },
  {
   "cell_type": "code",
   "execution_count": 13,
   "metadata": {},
   "outputs": [
    {
     "name": "stdout",
     "output_type": "stream",
     "text": [
      "9\n",
      "11106\n"
     ]
    }
   ],
   "source": [
    "## My Solution: Python 3\n",
    "\n",
    "a = input()\n",
    "total,tmp = 0,str()        # initialing an integer and empty string\n",
    "\n",
    "for i in range(4):\n",
    "    tmp+=a               # concatenating 'a' to 'tmp'\n",
    "    total+=int(tmp)      # converting string type to integer type\n",
    "\n",
    "print(total)\n"
   ]
  },
  {
   "cell_type": "code",
   "execution_count": null,
   "metadata": {},
   "outputs": [],
   "source": []
  }
 ],
 "metadata": {
  "kernelspec": {
   "display_name": "Python 3",
   "language": "python",
   "name": "python3"
  },
  "language_info": {
   "codemirror_mode": {
    "name": "ipython",
    "version": 3
   },
   "file_extension": ".py",
   "mimetype": "text/x-python",
   "name": "python",
   "nbconvert_exporter": "python",
   "pygments_lexer": "ipython3",
   "version": "3.7.4"
  }
 },
 "nbformat": 4,
 "nbformat_minor": 2
}
