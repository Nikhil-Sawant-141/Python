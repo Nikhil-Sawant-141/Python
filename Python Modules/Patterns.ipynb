{
 "cells": [
  {
   "cell_type": "code",
   "execution_count": 10,
   "metadata": {},
   "outputs": [
    {
     "name": "stdout",
     "output_type": "stream",
     "text": [
      "Enter Howllow Rhombus Star Pattern rows = 4\n",
      "Hollow Rhombus Star Pattern\n",
      "   ****\n",
      "  *  *\n",
      " *  *\n",
      "****\n"
     ]
    }
   ],
   "source": [
    "# Python Program to Print Hollow Rhombus Star Pattern\n",
    " \n",
    "hrows = int(input(\"Enter Howllow Rhombus Star Pattern rows = \"))\n",
    "\n",
    "print(\"Hollow Rhombus Star Pattern\") \n",
    "\n",
    "for i in range(hrows, 0, -1):\n",
    "    for j in range(1, i):\n",
    "        print(' ', end = '')\n",
    "    for k in range(0, hrows):\n",
    "        if(i == 1 or i == hrows or k == 0 or k == hrows - 1):\n",
    "            print('*', end = '')\n",
    "        else:\n",
    "            print(' ', end = '')\n",
    "    print()"
   ]
  },
  {
   "cell_type": "code",
   "execution_count": null,
   "metadata": {},
   "outputs": [],
   "source": []
  },
  {
   "cell_type": "code",
   "execution_count": 6,
   "metadata": {},
   "outputs": [
    {
     "name": "stdout",
     "output_type": "stream",
     "text": [
      "3\n",
      "---"
     ]
    }
   ],
   "source": [
    "rows = int(input())\n",
    "\n",
    "for i in range(rows, 0, -1):\n",
    "    for j in range(1, i):\n",
    "        print('-', end=\"\")\n",
    "    for k in range(0, rows)"
   ]
  },
  {
   "cell_type": "code",
   "execution_count": 7,
   "metadata": {},
   "outputs": [
    {
     "name": "stdout",
     "output_type": "stream",
     "text": [
      "  ***\n",
      " * *\n",
      "***\n"
     ]
    }
   ],
   "source": [
    "for i in range (1, rows + 1):\n",
    "        # Print trailing spaces\n",
    "         \n",
    "    for j in range (1, rows - i + 1):\n",
    "        print (end=\" \")\n",
    "             \n",
    "        # Print stars after spaces\n",
    "        # Print stars for each solid rows\n",
    "         \n",
    "    if i == 1 or i == rows:\n",
    "        for j in range (1, rows + 1):\n",
    "            print (\"*\",end=\"\")\n",
    "                 \n",
    "        # stars for hollow rows\n",
    "    else:\n",
    "        for j in range (1,rows+1):\n",
    "            if (j == 1 or j == rows):\n",
    "                print (\"*\",end=\"\")\n",
    "            else:\n",
    "                print (end=\" \")\n",
    "        # Move to the next line/row\n",
    "    print()"
   ]
  },
  {
   "cell_type": "code",
   "execution_count": 23,
   "metadata": {},
   "outputs": [
    {
     "name": "stdout",
     "output_type": "stream",
     "text": [
      "--* *\n",
      "-* *\n",
      "***\n"
     ]
    }
   ],
   "source": [
    "for i in range(rows, 0, -1):\n",
    "    \n",
    "    for j in range(1, i):\n",
    "        print(\"-\",end=\"\")\n",
    "        \n",
    "    for k in range(0, rows):\n",
    "        if i == 1 or i == 5 or k == 0 or k == rows-1:\n",
    "            print(\"*\", end=\"\")\n",
    "        else:\n",
    "            print(\" \", end=\"\")\n",
    "    print()    "
   ]
  },
  {
   "cell_type": "code",
   "execution_count": null,
   "metadata": {},
   "outputs": [],
   "source": []
  }
 ],
 "metadata": {
  "kernelspec": {
   "display_name": "Python 3",
   "language": "python",
   "name": "python3"
  },
  "language_info": {
   "codemirror_mode": {
    "name": "ipython",
    "version": 3
   },
   "file_extension": ".py",
   "mimetype": "text/x-python",
   "name": "python",
   "nbconvert_exporter": "python",
   "pygments_lexer": "ipython3",
   "version": "3.7.4"
  }
 },
 "nbformat": 4,
 "nbformat_minor": 2
}
