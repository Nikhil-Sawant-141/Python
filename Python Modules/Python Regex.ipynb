{
 "cells": [
  {
   "cell_type": "code",
   "execution_count": 1,
   "metadata": {},
   "outputs": [],
   "source": [
    "import re"
   ]
  },
  {
   "cell_type": "code",
   "execution_count": 20,
   "metadata": {},
   "outputs": [],
   "source": [
    "s = \"..9234567891011121314151617182021222\"\n",
    "\n",
    "m = re.search(r'([a-zA-Z0-9])\\1+', s)"
   ]
  },
  {
   "cell_type": "code",
   "execution_count": 21,
   "metadata": {},
   "outputs": [
    {
     "data": {
      "text/plain": [
       "'1'"
      ]
     },
     "execution_count": 21,
     "metadata": {},
     "output_type": "execute_result"
    }
   ],
   "source": [
    "m.group(1)"
   ]
  },
  {
   "cell_type": "code",
   "execution_count": 24,
   "metadata": {},
   "outputs": [
    {
     "name": "stdout",
     "output_type": "stream",
     "text": [
      "1\n",
      "1252478965\n",
      "NO\n"
     ]
    }
   ],
   "source": [
    "## Phone number regex\n",
    "\n",
    "n = int(input())\n",
    "\n",
    "import re\n",
    "\n",
    "for _ in range(n):\n",
    "\n",
    "    i = input()\n",
    "    pattern = r'[789]\\d{9}$'\n",
    "\n",
    "    m = re.match(pattern, i)\n",
    "    if m :\n",
    "        print(\"YES\")\n",
    "    else:\n",
    "        print(\"NO\")"
   ]
  },
  {
   "cell_type": "code",
   "execution_count": 34,
   "metadata": {},
   "outputs": [
    {
     "name": "stdout",
     "output_type": "stream",
     "text": [
      "dexter!@hotmail.\n",
      "DEXTER <dexter!@hotmail.>\n"
     ]
    }
   ],
   "source": [
    "## Validating and Parsing Email Addresses\n",
    "\n",
    "import email.utils\n",
    "\n",
    "par = email.utils.parseaddr('DEXTER <dexter!@hotmail.:p>')\n",
    "print(par[1])\n",
    "\n",
    "form = email.utils.formataddr(par)\n",
    "print(form)"
   ]
  },
  {
   "cell_type": "code",
   "execution_count": 26,
   "metadata": {},
   "outputs": [
    {
     "name": "stdout",
     "output_type": "stream",
     "text": [
      "nikhil?!@gmail::com\n"
     ]
    }
   ],
   "source": [
    "n = int(input())\n",
    "\n",
    "import email.utils\n",
    "import re\n",
    "\n",
    "for _ in range(n):\n",
    "\n",
    "    i = input()\n",
    "\n",
    "    pars = email.utils.parseaddr(i)\n",
    "\n",
    "    m = re.search(r'^[A-Za-z](\\w|-|\\.|_)+@[A-Za-z]+\\.[A-Za-z]{1,3}$', pars[1])\n",
    "\n",
    "    if m :\n",
    "        print(email.utils.formataddr(pars))"
   ]
  },
  {
   "cell_type": "code",
   "execution_count": null,
   "metadata": {},
   "outputs": [],
   "source": []
  }
 ],
 "metadata": {
  "kernelspec": {
   "display_name": "Python 3",
   "language": "python",
   "name": "python3"
  },
  "language_info": {
   "codemirror_mode": {
    "name": "ipython",
    "version": 3
   },
   "file_extension": ".py",
   "mimetype": "text/x-python",
   "name": "python",
   "nbconvert_exporter": "python",
   "pygments_lexer": "ipython3",
   "version": "3.7.4"
  }
 },
 "nbformat": 4,
 "nbformat_minor": 2
}
